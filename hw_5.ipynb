{
  "nbformat": 4,
  "nbformat_minor": 0,
  "metadata": {
    "colab": {
      "provenance": []
    },
    "kernelspec": {
      "name": "python3",
      "display_name": "Python 3"
    },
    "language_info": {
      "name": "python"
    }
  },
  "cells": [
    {
      "cell_type": "code",
      "execution_count": 14,
      "metadata": {
        "colab": {
          "base_uri": "https://localhost:8080/"
        },
        "id": "tePiYSOlqJiR",
        "outputId": "44cadc1c-4d76-465a-e619-c624e2f8deaf"
      },
      "outputs": [
        {
          "output_type": "stream",
          "name": "stdout",
          "text": [
            "The transformation matrix T(theta) is:\n",
            "[[   0.     1.     0.    -1. ]\n",
            " [  -0.     0.    -1.  -891.7]\n",
            " [  -1.     0.     0.   284.8]\n",
            " [  -0.     0.    -0.     1. ]]\n"
          ]
        }
      ],
      "source": [
        "import numpy as np\n",
        "from scipy.linalg import expm\n",
        "\n",
        "\n",
        "def skew(vector):\n",
        "    return np.array([\n",
        "        [0, -vector[2], vector[1]],\n",
        "        [vector[2], 0, -vector[0]],\n",
        "        [-vector[1], vector[0], 0]\n",
        "    ])\n",
        "\n",
        "def twist_matrix(omega, v):\n",
        "    return np.block([\n",
        "        [skew(omega), v.reshape(3, 1)],\n",
        "        [0, 0, 0, 0]\n",
        "    ])\n",
        "\n",
        "\n",
        "theta1 = np.radians(90)\n",
        "theta2 = np.radians(-90)\n",
        "theta3 = 0\n",
        "theta4 = 0\n",
        "theta5 = 0\n",
        "theta6 = 0\n",
        "\n",
        "theta = np.array([theta1, theta2, theta3, theta4, theta5, theta6])\n",
        "\n",
        "\n",
        "a = np.array([\n",
        "    [0, 0, 0],\n",
        "    [0, 0, 284.8],\n",
        "    [0, 0, 694.8],\n",
        "    [0, 1, 0],\n",
        "    [0, 0, 1009.1],\n",
        "    [0, 1, 0]\n",
        "])\n",
        "\n",
        "\n",
        "rot = np.array([\n",
        "    [0, 0, 1],\n",
        "    [0, 1, 0],\n",
        "    [0, -1, 0],\n",
        "    [0, 0, -1],\n",
        "    [0, -1, 0],\n",
        "    [0, 0, -1]\n",
        "])\n",
        "\n",
        "screw_axes = []\n",
        "for i in range(6):\n",
        "    omega = rot[i]\n",
        "    q = a[i]\n",
        "    v = -np.cross(omega, q)\n",
        "    screw_axes.append((omega, v))\n",
        "\n",
        "M = np.array([\n",
        "    [-1, 0, 0, 0],\n",
        "    [0, -1, 0, 1],\n",
        "    [0, 0, 1, 1176.50],\n",
        "    [0, 0, 0, 1]\n",
        "])\n",
        "\n",
        "T = np.eye(4)\n",
        "\n",
        "for i in range(6):\n",
        "    omega, v = screw_axes[i]\n",
        "    S_i = twist_matrix(omega, v)\n",
        "    T = T @ expm(S_i * theta[i])\n",
        "\n",
        "T = T @ M\n",
        "\n",
        "\n",
        "print(\"The transformation matrix T(theta) is:\")\n",
        "print(T)\n"
      ]
    }
  ]
}